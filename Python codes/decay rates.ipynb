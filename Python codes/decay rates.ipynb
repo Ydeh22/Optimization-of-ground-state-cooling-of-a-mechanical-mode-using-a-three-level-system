{
 "cells": [
  {
   "cell_type": "markdown",
   "metadata": {},
   "source": [
    "## Figure 3\n",
    "### Calculate steady state phonon number for the three-level system as a function of decay rates: \n",
    "### $\\gamma$ vs $\\gamma_2$ and $\\gamma_1$ vs $\\gamma_2$"
   ]
  },
  {
   "cell_type": "code",
   "execution_count": null,
   "metadata": {},
   "outputs": [],
   "source": [
    "# Import Libraries\n",
    "import Phonon_Number as pn\n",
    "import parameters as params\n",
    "\n",
    "import numpy as np\n",
    "import matplotlib.pyplot as plt\n",
    "from matplotlib import ticker\n",
    "from IPython.display import clear_output\n",
    "from scipy.io import savemat, loadmat"
   ]
  },
  {
   "cell_type": "markdown",
   "metadata": {},
   "source": [
    "### (a) $\\gamma$ vs $\\gamma_2$"
   ]
  },
  {
   "cell_type": "code",
   "execution_count": null,
   "metadata": {},
   "outputs": [],
   "source": [
    "'''\n",
    "Import and define parameters\n",
    "'''\n",
    "# Import parameters\n",
    "omega_21, temperature, g, pump, T2, T1, gamma = params.three_level_system_params()\n",
    "\n",
    "N = 50\n",
    "\n",
    "data_points = 50                             # number of data points in arrays\n",
    "T2 = np.logspace(-2, 2, data_points)*g       # in GHz\n",
    "gamma = np.logspace(-6, -2, data_points)*g   # in GHz\n",
    "\n",
    "dephasing = 0                                # in GHz\n",
    "\n",
    "# initializing arrays\n",
    "phonon_gamma_gamma2 = np.zeros((len(T2), len(gamma)))"
   ]
  },
  {
   "cell_type": "code",
   "execution_count": null,
   "metadata": {},
   "outputs": [],
   "source": [
    "'''\n",
    "Iterating over to calculate simulation values\n",
    "'''\n",
    "\n",
    "for i in range(len(T2)):\n",
    "    for j in range(len(gamma)):\n",
    "        \n",
    "        # Using simulations\n",
    "        phonon_gamma_gamma2[i,j] = pn.QD_simulation(g, pump, T2[i], T1, gamma[j], dephasing, nth, N)\n",
    "        \n",
    "        # progress monitor\n",
    "        if(np.mod(i,10) == 0 and np.mod(j,10) == 0):\n",
    "            print((i/100,j/100))\n",
    "            \n",
    "clear_output()\n",
    "print('Calculations done!')"
   ]
  },
  {
   "cell_type": "code",
   "execution_count": null,
   "metadata": {},
   "outputs": [],
   "source": [
    "'''\n",
    "Save data into .mat file\n",
    "'''\n",
    "\n",
    "decay_rates_a = {'data_points' : data_points,\n",
    "                 'omega' : omega,\n",
    "                 'temperature' : temp,\n",
    "                 'g' : g,\n",
    "                 'pump' : pump,\n",
    "                 'T2' : T2,\n",
    "                 'T1' : T1,\n",
    "                 'gamma' : gamma,\n",
    "                 'dephasing': dephasing,\n",
    "                 'N' : N,\n",
    "                 'phonon_gamma_gamma2' : phonon_gamma_gamma2,\n",
    "                 }\n",
    "\n",
    "savemat(\"./data files/decay_rates_a.mat\", decay_rates_a) # saving data"
   ]
  },
  {
   "cell_type": "markdown",
   "metadata": {},
   "source": [
    "### (b) $\\gamma_1$ vs $\\gamma_2$"
   ]
  },
  {
   "cell_type": "code",
   "execution_count": null,
   "metadata": {},
   "outputs": [],
   "source": [
    "'''\n",
    "Import and define parameters\n",
    "'''\n",
    "\n",
    "# Import parameters\n",
    "omega_21, temperature, g, pump, T2, T1, gamma = params.three_level_system_params()\n",
    "\n",
    "data_points = 50                             # number of data points\n",
    "T2 = np.logspace(-2, 2, data_points)*g       # in GHz\n",
    "T1 = np.logspace(-2, 2, data_points)*g       # in GHz\n",
    "\n",
    "gamma = 10**-4*g                             # in GHz\n",
    "dephasing = 0                                # in GHz\n",
    "\n",
    "# initializing arrays\n",
    "phonon_gamma1_gamma2 = np.zeros((len(T1), len(T2)))"
   ]
  },
  {
   "cell_type": "code",
   "execution_count": null,
   "metadata": {},
   "outputs": [],
   "source": [
    "'''\n",
    "Iterating over to calculate simulation values\n",
    "'''\n",
    "\n",
    "for i in range(len(T1)):\n",
    "    for j in range(len(T2)):\n",
    "        \n",
    "        # Using simulations\n",
    "        phonon_gamma1_gamma2[i,j] = coherent_simulation(g, pump, T2[j], T1[i], gamma, dephasing, nth, N)\n",
    "        \n",
    "        # Progress monitor\n",
    "        if(np.mod(i,10) == 0 and np.mod(j,10) == 0):\n",
    "            print((i/100,j/100))\n",
    "\n",
    "clear_output()\n",
    "print('Calculations done!')"
   ]
  },
  {
   "cell_type": "code",
   "execution_count": null,
   "metadata": {},
   "outputs": [],
   "source": [
    "'''\n",
    "Save data into .mat files\n",
    "'''\n",
    "\n",
    "decay_rates_b = {'data_points' : data_points,\n",
    "                 'omega' : omega,\n",
    "                 'temperature' : temp,\n",
    "                 'g' : g,\n",
    "                 'pump' : pump,\n",
    "                 'T2' : T2,\n",
    "                 'T1' : T1,\n",
    "                 'gamma' : gamma,\n",
    "                 'dephasing': dephasing,\n",
    "                 'N' : N,\n",
    "                 'phonon_gamma1_gamma2' : phonon_gamma1_gamma2,\n",
    "                 }\n",
    "\n",
    "savemat(\"./data files/decay_rates_b.mat\", decay_rates_b) # saving data"
   ]
  },
  {
   "cell_type": "code",
   "execution_count": null,
   "metadata": {},
   "outputs": [],
   "source": [
    "'''\n",
    "Import data files\n",
    "'''\n",
    "\n",
    "# import data files and define variables\n",
    "decay_rates_a = loadmat(\"./data files/decay_rates_a.mat\")\n",
    "decay_rates_b = loadmat(\"./data files/decay_rates_b.mat\")\n",
    "\n",
    "g = int(decay_rates_a['g'])\n",
    "\n",
    "phonon_gamma_gamma2 = decay_rates_a['phonon_gamma_gamma2']\n",
    "phonon_gamma1_gamma2 = decay_rates_b['phonon_gamma1_gamma2']"
   ]
  },
  {
   "cell_type": "code",
   "execution_count": null,
   "metadata": {},
   "outputs": [],
   "source": [
    "'''\n",
    "Plotting\n",
    "'''\n",
    "\n",
    "# plot specifications\n",
    "fig = plt.figure(constrained_layout=True)\n",
    "spec = fig.add_gridspec(ncols=2, nrows=1)  # subplot grid\n",
    "locator = ticker.LogLocator(base=10)\n",
    "\n",
    "'''\n",
    "Figure 3(a): gamma vs T2\n",
    "'''\n",
    "# Import data\n",
    "gamma = decay_rates_a['gamma']\n",
    "T2 = decay_rates_a['T2']\n",
    "\n",
    "[X,Y] = np.meshgrid(T2/g, gamma/g) # define X,Y for contour plot\n",
    "fig.add_subplot(spec[0, 0])\n",
    "levels = np.logspace(-6,0,20) # finetune gradation in contour plot\n",
    "\n",
    "plt.contourf(X,Y, phonon_gamma_gamma2.T, locator=ticker.LogLocator(), levels = levels, cmap = 'viridis_r') # contour plot\n",
    "cbar = plt.colorbar(ticks=[10**-6, 10**-4, 10**-2, 1], aspect = 20, shrink = 0.7)\n",
    "\n",
    "plt.xscale('log')\n",
    "plt.yscale('log')\n",
    "plt.ylabel('$\\gamma/g$')\n",
    "plt.xlabel('$\\gamma_2 /g$')\n",
    "plt.title('(a)')\n",
    "plt.xticks([0.01, 1, 100])\n",
    "plt.yticks([0.000001, 0.0001, 0.01])\n",
    "ax = plt.gca()\n",
    "ax.set(aspect='equal')\n",
    "\n",
    "'''\n",
    "Figure 3(b): T1 vs T2\n",
    "'''\n",
    "\n",
    "T2 = decay_rates_b['T2']\n",
    "T1 = decay_rates_b['T1']\n",
    "\n",
    "[X,Y] = np.meshgrid(T2/g, T1/g) # define X,Y for contour plot\n",
    "levels = np.logspace(-4,0,20) # finetune gradation in contour plot\n",
    "fig.add_subplot(spec[0, 1])\n",
    "\n",
    "plt.contourf(X,Y, phonon_gamma1_gamma2, locator=ticker.LogLocator(), levels = levels, cmap = 'viridis_r') # contour plot\n",
    "\n",
    "# horizontal line (to change)\n",
    "plt.axhline(y = pump/g, color = 'black', linestyle = '--', linewidth = 4) \n",
    "plt.xscale('log')\n",
    "plt.yscale('log')\n",
    "plt.xlabel('$\\gamma_2/g$')\n",
    "plt.ylabel('$\\gamma_1/g$')\n",
    "plt.title('(b)')\n",
    "plt.yticks([0.01, 1, 100])\n",
    "ax = plt.gca()\n",
    "ax.set(aspect='equal')\n",
    "cbar = plt.colorbar(ticks=locator, aspect = 20, shrink = 0.7)\n",
    "plt.rcParams.update({'font.size': 40})\n",
    "cbar.set_label(r'$\\mathcal{F} = \\langle b^{\\dagger}b \\rangle_s/n_{th}$')\n",
    "\n",
    "fig = plt.gcf()\n",
    "fig.set_size_inches((23, 9))\n",
    "\n",
    "fig.savefig('./figures/decay_rates.pdf')\n",
    "plt.show()"
   ]
  },
  {
   "cell_type": "code",
   "execution_count": null,
   "metadata": {},
   "outputs": [],
   "source": []
  }
 ],
 "metadata": {
  "interpreter": {
   "hash": "b342b9fcd1c8fa9c671bf2bcb326ad63d7e34893804a2d72f4b441747942ea3e"
  },
  "kernelspec": {
   "display_name": "Python 3",
   "language": "python",
   "name": "python3"
  },
  "language_info": {
   "codemirror_mode": {
    "name": "ipython",
    "version": 3
   },
   "file_extension": ".py",
   "mimetype": "text/x-python",
   "name": "python",
   "nbconvert_exporter": "python",
   "pygments_lexer": "ipython3",
   "version": "3.8.3"
  }
 },
 "nbformat": 4,
 "nbformat_minor": 4
}
