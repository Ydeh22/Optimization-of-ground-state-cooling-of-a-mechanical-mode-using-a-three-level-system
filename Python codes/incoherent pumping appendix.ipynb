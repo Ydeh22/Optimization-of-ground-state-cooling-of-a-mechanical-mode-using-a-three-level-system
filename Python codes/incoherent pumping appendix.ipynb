{
 "cells": [
  {
   "cell_type": "markdown",
   "metadata": {},
   "source": [
    "## Appendix Figure\n",
    "### Three-level system with incoherent pumping"
   ]
  },
  {
   "cell_type": "code",
   "execution_count": null,
   "metadata": {},
   "outputs": [],
   "source": [
    "# Import Libraries\n",
    "import Phonon_Number as pn\n",
    "import parameters as params\n",
    "\n",
    "import numpy as np\n",
    "import matplotlib.pyplot as plt\n",
    "from matplotlib import ticker\n",
    "from IPython.display import clear_output\n",
    "from scipy.io import savemat, loadmat"
   ]
  },
  {
   "cell_type": "code",
   "execution_count": null,
   "metadata": {},
   "outputs": [],
   "source": [
    "'''\n",
    "Parameters as in the manuscript.\n",
    "'''\n",
    "# Import parameters\n",
    "g, pump, T1, nth = params.incoherent_system_params()\n",
    "\n",
    "N = 300                                     # phonon basis truncation in qutip\n",
    "\n",
    "data_points = 100                           # number of data points\n",
    "T2 = g*np.logspace(-2, 2, data_points)      # in GHz\n",
    "gamma = g*np.logspace(-5, -3, data_points)  # in GHz\n",
    "\n",
    "# initialize arrays\n",
    "simulation = np.zeros((len(T2), len(gamma)))"
   ]
  },
  {
   "cell_type": "code",
   "execution_count": null,
   "metadata": {},
   "outputs": [],
   "source": [
    "'''\n",
    "Iterate over gamma and T2 to fill in values\n",
    "'''\n",
    "\n",
    "for i in range(len(gamma)):\n",
    "    for j in range(len(T2)):  \n",
    "        \n",
    "        # Using simulations\n",
    "        simulation[i,j] = pn.incoherent_simulation(g, pump, T2[j], T1, gamma[i], nth, N)\n",
    "        \n",
    "        # progress monitor\n",
    "        if(np.mod(i,10) == 0 and np.mod(j,10) == 0):\n",
    "            print((i/100,j/100))\n",
    "            \n",
    "clear_output()\n",
    "print('Calculations done!')"
   ]
  },
  {
   "cell_type": "code",
   "execution_count": null,
   "metadata": {},
   "outputs": [],
   "source": [
    "'''\n",
    "Save data into .mat files\n",
    "'''\n",
    "incoherent_pumping_appendix = {'data_points' : data_points,\n",
    "                               'g' : g,\n",
    "                               'pump' : pump,\n",
    "                               'T2' : T2,\n",
    "                               'T1' : T1,\n",
    "                               'gamma' : gamma,\n",
    "                               'nth' : nth,\n",
    "                               'N' : N,\n",
    "                               'simulation' : simulation,\n",
    "                              }\n",
    "\n",
    "savemat(\"./data files/incoherent_pumping_appendix.mat\", incoherent_pumping_appendix) # saving data"
   ]
  },
  {
   "cell_type": "code",
   "execution_count": null,
   "metadata": {},
   "outputs": [],
   "source": [
    "'''\n",
    "Import data for plotting\n",
    "'''\n",
    "\n",
    "# Import data\n",
    "incoherent_pumping_appendix = loadmat(\"./data files/incoherent_pumping_appendix.mat\")\n",
    "\n",
    "g = int(incoherent_pumping_appendix['g'])\n",
    "T2 = incoherent_pumping_appendix['T2']\n",
    "gamma = incoherent_pumping_appendix['gamma']\n",
    "\n",
    "simulation = incoherent_pumping_appendix['simulation']"
   ]
  },
  {
   "cell_type": "code",
   "execution_count": null,
   "metadata": {},
   "outputs": [],
   "source": [
    "'''\n",
    "Plotting\n",
    "'''\n",
    "\n",
    "# Define plot specifications\n",
    "fig = plt.figure(constrained_layout=True)\n",
    "[X,Y] = np.meshgrid(gamma, T2) # define X,Y for contour plot\n",
    "levels = np.logspace(-5,0,15) # finetune gradation in contour plot\n",
    "locator = ticker.LogLocator(base=10) # for log plot\n",
    "\n",
    "# incoherent plot\n",
    "plt.contourf(X,Y, simulation.T, locator=ticker.LogLocator(), levels = levels, cmap = 'viridis_r') # contour plot\n",
    "plt.plot(gamma, 2*gamma/gamma, linestyle = '--', color = 'k', linewidth = 2) # black curve\n",
    "\n",
    "cbar = plt.colorbar(ticks=locator, aspect = 20) # colourbar\n",
    "cbar.ax.tick_params() \n",
    "cbar.set_label(r'$\\mathcal{F} = \\langle b^{\\dagger}b \\rangle_s/n_{th}$')\n",
    "\n",
    "plt.xscale('log')\n",
    "plt.yscale('log')\n",
    "plt.xlabel('$\\gamma/g$')\n",
    "plt.ylabel('$\\gamma_2/g$')\n",
    "\n",
    "plt.rcParams.update({'font.size': 13})\n",
    "ax = plt.gca()\n",
    "ax.set(aspect=0.9)\n",
    "\n",
    "fig = plt.gcf()\n",
    "fig.set_size_inches((8, 5))\n",
    "\n",
    "# fig.savefig('./figures/incoherent_pumping_appendix.pdf')"
   ]
  }
 ],
 "metadata": {
  "kernelspec": {
   "display_name": "Python 3",
   "language": "python",
   "name": "python3"
  },
  "language_info": {
   "codemirror_mode": {
    "name": "ipython",
    "version": 3
   },
   "file_extension": ".py",
   "mimetype": "text/x-python",
   "name": "python",
   "nbconvert_exporter": "python",
   "pygments_lexer": "ipython3",
   "version": "3.8.3"
  }
 },
 "nbformat": 4,
 "nbformat_minor": 4
}
