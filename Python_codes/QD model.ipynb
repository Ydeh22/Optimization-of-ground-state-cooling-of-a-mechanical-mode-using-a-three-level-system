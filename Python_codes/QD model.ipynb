{
 "cells": [
  {
   "cell_type": "markdown",
   "metadata": {},
   "source": [
    "## Figure 3\n",
    "### QD simulation + theoretical model"
   ]
  },
  {
   "cell_type": "code",
   "execution_count": null,
   "metadata": {},
   "outputs": [],
   "source": [
    "# Import Libraries\n",
    "import Phonon_Number as pn\n",
    "import parameters as params\n",
    "\n",
    "import numpy as np\n",
    "import matplotlib.pyplot as plt\n",
    "from matplotlib import ticker\n",
    "from IPython.display import clear_output\n",
    "from scipy.io import savemat, loadmat"
   ]
  },
  {
   "cell_type": "code",
   "execution_count": null,
   "metadata": {},
   "outputs": [],
   "source": [
    "'''\n",
    "Define and initialize parameters\n",
    "'''\n",
    "\n",
    "# Import parameters\n",
    "omega_m, g, T1, gamma, temperature, nth = params.QD_params()\n",
    "\n",
    "N = 50                                    # truncation for the phonon number basis in qutip\n",
    "dephasing = 0                             # dephasing rate in QD; in GHz\n",
    "\n",
    "data_points = 50                          # number of data points in arrays\n",
    "pump = g*np.logspace(-1, 1, data_points)  # in GHz\n",
    "T2 = g*np.logspace(-1, 1, data_points)    # in GHz\n",
    "\n",
    "# Initializing arrays\n",
    "theory = np.zeros((len(T2), len(pump)))     # theoretical expression\n",
    "simulation = np.zeros((len(T2), len(pump))) # for qutip simulation"
   ]
  },
  {
   "cell_type": "code",
   "execution_count": null,
   "metadata": {},
   "outputs": [],
   "source": [
    "'''\n",
    "Iterating over pump and T2 to calculate theoretical and simulation values\n",
    "'''\n",
    "\n",
    "for i in range(len(pump)):\n",
    "    for j in range(len(T2)):\n",
    "        \n",
    "        # theory function\n",
    "        theory[i,j] = pn.QD_theory(g, pump[i], T2[j], T1, gamma, nth)\n",
    "        \n",
    "        # simulation function\n",
    "        simulation[i,j] = pn.QD_simulation(g, pump[i], T2[j], T1, gamma, dephasing, nth, N)\n",
    "        \n",
    "        # progress monitor\n",
    "        if(np.mod(i,10) == 0 and np.mod(j,10) == 0):\n",
    "            print((i/100,j/100))\n",
    "\n",
    "clear_output()\n",
    "print('Calculations done!')"
   ]
  },
  {
   "cell_type": "code",
   "execution_count": null,
   "metadata": {},
   "outputs": [],
   "source": [
    "'''\n",
    "Save simulation data\n",
    "'''\n",
    "\n",
    "QD_model = {'data_points' : data_points,\n",
    "            'g' : g,\n",
    "            'pump' : pump,\n",
    "            'T2' : T2,\n",
    "            'T1' : T1,\n",
    "            'gamma' : gamma,\n",
    "            'dephasing': dephasing,\n",
    "            'N' : N,\n",
    "            'nth' : nth,\n",
    "            'theory' : theory,\n",
    "            'simulation' : simulation\n",
    "            }\n",
    "\n",
    "savemat(\"./data files/QD_model.mat\", QD_model) # saving data"
   ]
  },
  {
   "cell_type": "code",
   "execution_count": null,
   "metadata": {},
   "outputs": [],
   "source": [
    "'''\n",
    "Import data\n",
    "'''\n",
    "QD_model = loadmat(\"./data files/QD_model.mat\")\n",
    "\n",
    "g = int(QD_model['g'])\n",
    "T2 = QD_model['T2'][0]\n",
    "pump = QD_model['pump'][0]\n",
    "\n",
    "theory = QD_model['theory']\n",
    "simulation = QD_model['simulation']"
   ]
  },
  {
   "cell_type": "code",
   "execution_count": null,
   "metadata": {},
   "outputs": [],
   "source": [
    "'''\n",
    "Plotting\n",
    "'''\n",
    "# Define plot specifications\n",
    "fig = plt.figure(constrained_layout=True)\n",
    "spec = fig.add_gridspec(ncols=2, nrows=1) # subplot grid\n",
    "[X,Y] = np.meshgrid(T2/g,pump/g) # define X,Y for contour plot\n",
    "levels = np.logspace(-4,0,15) # finetune gradation in contour plot\n",
    "locator = ticker.LogLocator(base=10)\n",
    "size = theory.shape[0]-8\n",
    "\n",
    "# theory plot\n",
    "fig.add_subplot(spec[0, 0])\n",
    "plt.contourf(X,Y, theory, locator=ticker.LogLocator(), levels = levels, cmap = 'viridis_r') # contour plot\n",
    "\n",
    "# optimal values; see Eq 8 in manuscript\n",
    "plt.plot(T2/g, pump/(pump*2**(1/2)), color = 'white', linestyle = '-.', linewidth = 3)\n",
    "plt.plot((4*pump[1:size]**2/g**2 + g**2/(pump[1:size]**2))**0.5, pump[1:size]/g, color = 'black', linestyle = '--', linewidth = 3)\n",
    "\n",
    "plt.xscale('log')\n",
    "plt.yscale('log')\n",
    "plt.xlabel('$\\gamma_2/g$')\n",
    "plt.ylabel('$\\Omega/g$')\n",
    "plt.title('(a)')\n",
    "plt.yticks([0.1, 1, 10])\n",
    "ax = plt.gca()\n",
    "ax.set(adjustable='box', aspect='equal')\n",
    "\n",
    "# simulation plot\n",
    "fig.add_subplot(spec[0, 1])\n",
    "plt.contourf(X,Y, simulation, locator=ticker.LogLocator(), levels = levels, cmap = 'viridis_r') # contour plot\n",
    "\n",
    "# optimal values; see Eq 8 in manuscript\n",
    "plt.plot(T2/g, pump/(pump*2**(1/2)), color = 'white', linestyle = '-.', linewidth = 3)\n",
    "plt.plot((4*pump[1:size]**2/g**2 + g**2/(pump[1:size]**2))**0.5, pump[1:size]/g, color = 'black', linestyle = '--', linewidth = 3)\n",
    "\n",
    "plt.xscale('log')\n",
    "plt.yscale('log')\n",
    "plt.xlabel('$\\gamma_2/g$')\n",
    "plt.title('(b)')\n",
    "plt.yticks([0.1, 1, 10])\n",
    "plt.rcParams.update({'font.size': 40})\n",
    "ax = plt.gca()\n",
    "ax.set(adjustable='box', aspect='equal')\n",
    "\n",
    "cbar = plt.colorbar(ticks=locator, aspect = 20, shrink = 1)\n",
    "cbar.set_label(r'$\\mathcal{F} = \\langle b^{\\dagger}b \\rangle_s/n_{th}$')\n",
    "\n",
    "fig = plt.gcf()\n",
    "fig.set_size_inches((23, 9))\n",
    "\n",
    "# fig.savefig('./figures/QD_model.pdf')"
   ]
  },
  {
   "cell_type": "code",
   "execution_count": null,
   "metadata": {},
   "outputs": [],
   "source": []
  }
 ],
 "metadata": {
  "interpreter": {
   "hash": "b342b9fcd1c8fa9c671bf2bcb326ad63d7e34893804a2d72f4b441747942ea3e"
  },
  "kernelspec": {
   "display_name": "Python 3",
   "language": "python",
   "name": "python3"
  },
  "language_info": {
   "codemirror_mode": {
    "name": "ipython",
    "version": 3
   },
   "file_extension": ".py",
   "mimetype": "text/x-python",
   "name": "python",
   "nbconvert_exporter": "python",
   "pygments_lexer": "ipython3",
   "version": "3.8.3"
  }
 },
 "nbformat": 4,
 "nbformat_minor": 4
}
