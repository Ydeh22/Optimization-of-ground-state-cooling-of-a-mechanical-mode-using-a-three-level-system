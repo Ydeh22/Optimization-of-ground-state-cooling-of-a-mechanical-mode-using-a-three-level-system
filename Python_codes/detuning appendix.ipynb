{
 "cells": [
  {
   "cell_type": "markdown",
   "metadata": {},
   "source": [
    "## Appendix Figures\n",
    "### Calculate steady state phonon number for the three-level system as a function of detunings: $\\Delta_1$ and $\\Delta_2$"
   ]
  },
  {
   "cell_type": "code",
   "execution_count": 1,
   "metadata": {},
   "outputs": [],
   "source": [
    "# Import Libraries\n",
    "import Phonon_Number as pn\n",
    "import parameters as params\n",
    "\n",
    "import numpy as np\n",
    "import matplotlib.pyplot as plt\n",
    "from matplotlib import ticker\n",
    "from IPython.display import clear_output\n",
    "from scipy.io import savemat, loadmat"
   ]
  },
  {
   "cell_type": "markdown",
   "metadata": {},
   "source": [
    "## (a) $g >> \\Omega$"
   ]
  },
  {
   "cell_type": "code",
   "execution_count": null,
   "metadata": {},
   "outputs": [],
   "source": [
    "'''\n",
    "Import and define parameters\n",
    "'''\n",
    "# Import parameters\n",
    "omega_21, temperature, g, pump, T2, T1, gamma = params.three_level_system_params()\n",
    "\n",
    "N = 50                                           # truncation for the phonon number basis in qutip\n",
    "pump = 0.1*g                                     # value that is << g, overwriting the imported value\n",
    "\n",
    "limit = 50\n",
    "data_points = 50\n",
    "delta1 = np.linspace(-limit, limit, data_points) # in GHz\n",
    "delta2 = np.linspace(-limit, limit, data_points) # in GHz\n",
    "\n",
    "# initializing input arrays\n",
    "detuning_plot_a = np.zeros((len(delta1), len(delta2)))"
   ]
  },
  {
   "cell_type": "code",
   "execution_count": null,
   "metadata": {},
   "outputs": [],
   "source": [
    "'''\n",
    "Iterating over delta_1 and delta_2 to calculate simulation values\n",
    "'''\n",
    "\n",
    "for i in range(len(delta_2)):\n",
    "    for j in range(len(delta_1)):\n",
    "        \n",
    "        # obtain values from simulations\n",
    "        detuning_plot_a[i,j] = detuning(delta_1[j], delta_2[i], omega_21, temperature, g, pump, T2, T1, gamma, N)\n",
    "        \n",
    "        # progress monitor\n",
    "        if(np.mod(i,10) == 0 and np.mod(j,10) == 0):\n",
    "            print((i/100,j/100))\n",
    "            \n",
    "clear_output()\n",
    "print('Calculations done!')"
   ]
  },
  {
   "cell_type": "code",
   "execution_count": null,
   "metadata": {},
   "outputs": [],
   "source": [
    "'''\n",
    "Save data as a dictionary into .mat file\n",
    "'''\n",
    "\n",
    "detuning_appendix_a = {'delta1' : delta1,\n",
    "                       'delta2' : delta2,\n",
    "                       'data_points' : data_points,\n",
    "                       'omega' : omega,\n",
    "                       'temperature' : temp,\n",
    "                       'g' : g,\n",
    "                       'pump' : pump,\n",
    "                       'T2' : T2,\n",
    "                       'T1' : T1,\n",
    "                       'gamma' : gamma,\n",
    "                       'N' : N,\n",
    "                       'detuning_plot_a' : detuning_plot_a,\n",
    "                      }\n",
    "\n",
    "savemat(\"./data files/detuning_appendix_a.mat\", detuning_appendix_a) # saving data"
   ]
  },
  {
   "cell_type": "markdown",
   "metadata": {},
   "source": [
    "## (b) $g << \\Omega$"
   ]
  },
  {
   "cell_type": "code",
   "execution_count": null,
   "metadata": {},
   "outputs": [],
   "source": [
    "'''\n",
    "Import and define parameters\n",
    "'''\n",
    "# Import parameters\n",
    "omega_21, temperature, g, pump, T2, T1, gamma = params.three_level_system_params()\n",
    "\n",
    "N = 50                                           # truncation for the phonon number basis in qutip\n",
    "pump = 10*g                                      # value that is >> g, overwriting the imported value\n",
    "\n",
    "limit = 50\n",
    "data_points = 50\n",
    "delta_1 = np.linspace(-limit, limit, data_points) # in GHz\n",
    "delta_2 = np.linspace(-limit, limit, data_points) # in GHz\n",
    "\n",
    "# initializing input arrays\n",
    "detuning_plot_b = np.zeros((len(delta1), len(delta2)))"
   ]
  },
  {
   "cell_type": "code",
   "execution_count": null,
   "metadata": {},
   "outputs": [],
   "source": [
    "for i in range(len(delta_2)):\n",
    "    for j in range(len(delta_1)):\n",
    "        \n",
    "        # Using simulations\n",
    "        detuning_plot_b[i,j] = detuning(delta_1[j], delta_2[i], omega_21, temp, g, pump, T2, T1, gamma, N)\n",
    "        \n",
    "        # progress monitor\n",
    "        if(np.mod(i,10) == 0 and np.mod(j,10) == 0):\n",
    "            print((i/100,j/100))\n",
    "            \n",
    "clear_output()\n",
    "print('Calculations done!')"
   ]
  },
  {
   "cell_type": "code",
   "execution_count": null,
   "metadata": {},
   "outputs": [],
   "source": [
    "'''\n",
    "Save data as a dictionary into .mat file\n",
    "'''\n",
    "\n",
    "detuning_appendix_b = {'delta1' : delta1,\n",
    "                       'delta2' : delta2,\n",
    "                       'data_points' : data_points,\n",
    "                       'omega' : omega,\n",
    "                       'temperature' : temp,\n",
    "                       'g' : g,\n",
    "                       'pump' : pump,\n",
    "                       'T2' : T2,\n",
    "                       'T1' : T1,\n",
    "                       'gamma' : gamma,\n",
    "                       'N' : N,\n",
    "                       'detuning_plot_b' : detuning_plot_b,\n",
    "                      }\n",
    "\n",
    "savemat(\"./data files/detuning_appendix_b.mat\", detuning_appendix_b) # saving data"
   ]
  },
  {
   "cell_type": "code",
   "execution_count": null,
   "metadata": {},
   "outputs": [],
   "source": [
    "'''\n",
    "Import data for plotting\n",
    "'''\n",
    "\n",
    "# Import data\n",
    "detuning_appendix_a = loadmat(\"./data files/detuning_appendix_a\")\n",
    "detuning_appendix_b = loadmat(\"./data files/detuning_appendix_b\")\n",
    "\n",
    "g = int(detuning_appendix_a['g'])\n",
    "delta1 = detuning_appendix_a['delta1'][0]\n",
    "delta2 = detuning_appendix_a['delta2'][0]\n",
    "\n",
    "detuning_plot_a = detuning_appendix_a['detuning_plot_a']\n",
    "detuning_plot_b = detuning_appendix_b['detuning_plot_b']"
   ]
  },
  {
   "cell_type": "code",
   "execution_count": null,
   "metadata": {},
   "outputs": [],
   "source": [
    "'''\n",
    "Plotting\n",
    "'''\n",
    "\n",
    "pump = int(detuning_appendix_a['pump'])\n",
    "\n",
    "# plot specifications\n",
    "fig = plt.figure(constrained_layout=True)\n",
    "spec = fig.add_gridspec(ncols=1, nrows=2)  # subplot grid\n",
    "locator = ticker.LogLocator(base=10)\n",
    "end = -3\n",
    "start = 1\n",
    "\n",
    "# variable arrays and parameters corresponding to subplot (a)\n",
    "[X,Y] = np.meshgrid(delta1, delta2) # define X,Y for contour plot\n",
    "levels = np.logspace(-3,0,15) # finetune gradation in contour plot\n",
    "\n",
    "# plot the array detuning_plot_a\n",
    "fig.add_subplot(spec[0, 0])\n",
    "plt.contourf(X,Y, detuning_plot_a, locator=ticker.LogLocator(), levels = levels, cmap = 'viridis_r') # contour plot\n",
    "\n",
    "# phonon number minimization along the curves below; see Appendix B\n",
    "plt.plot(-delta2[:-1]/2 - np.sqrt((g)**2 + delta2[:-1]**2/4), delta2[:-1], color = 'k', linewidth = 2, linestyle = '--')\n",
    "plt.plot(-delta2[start:-1]/2 + np.sqrt((g)**2 + delta2[start:-1]**2/4), delta2[start:-1], color = 'k', linewidth = 2, linestyle = '--')\n",
    "cbar = plt.colorbar(ticks=locator, aspect = 7)\n",
    "cbar.set_label(r'$\\mathcal{F} = \\langle b^{\\dagger}b \\rangle_s/n_{th}$')\n",
    "cbar.ax.tick_params()\n",
    "plt.ylabel('$\\Delta_2$ (GHz)')\n",
    "plt.xlabel('$\\Delta_1$ (GHz)')\n",
    "plt.title('(a)')\n",
    "plt.xticks([-50, -25, 0, 25, 50])\n",
    "plt.yticks([-50, -25, 0, 25, 50])\n",
    "ax = plt.gca()\n",
    "ax.set(adjustable='box', aspect='equal')\n",
    "\n",
    "# variable arrays and parameters corresponding to subplot (b)\n",
    "fig.add_subplot(spec[1, 0])\n",
    "pump = int(detuning_appendix_b['pump'])\n",
    "\n",
    "[X,Y] = np.meshgrid(delta1, delta2) # define X,Y for contour plot\n",
    "levels = np.logspace(-4,-0,15) # finetune gradation in contour plot\n",
    "\n",
    "# plot the array detuning_plot_a\n",
    "end = -16\n",
    "start = 16\n",
    "plt.contourf(X,Y, detuning_plot_b, locator=ticker.LogLocator(), levels = levels, cmap = 'viridis_r') # contour plot\n",
    "\n",
    "# phonon number minimization along the curves below; see Appendix B\n",
    "plt.plot(delta1[:end], -delta1[:end]/2 - np.sqrt((pump)**2 + delta1[:end]**2/4), color = 'k', linewidth = 2, linestyle = '--')\n",
    "plt.plot(delta1[start:-1], -delta1[start:-1]/2 + np.sqrt((pump)**2 + delta1[start:-1]**2/4), color = 'k', linewidth = 2, linestyle = '--')\n",
    "\n",
    "# format plot\n",
    "cbar = plt.colorbar(ticks=locator, aspect = 7)\n",
    "cbar.set_label(r'$\\mathcal{F} = \\langle b^{\\dagger}b \\rangle_s/n_{th}$')\n",
    "cbar.ax.tick_params()\n",
    "plt.ylabel('$\\Delta_2$ (GHz)')\n",
    "plt.xlabel('$\\Delta_1$ (GHz)')\n",
    "plt.title('(b)')\n",
    "plt.xticks([-100, -50, 0, 50, 100])\n",
    "plt.yticks([-100, -50, 0, 50, 100])\n",
    "ax = plt.gca()\n",
    "ax.set(adjustable='box', aspect='equal')\n",
    "\n",
    "fig = plt.gcf()\n",
    "fig.set_size_inches((7, 10), forward=False)\n",
    "plt.rcParams.update({'font.size': 17})\n",
    "\n",
    "# fig.savefig(./figures/detuning_appendix.pdf', dpi = 500)\n",
    "plt.show()"
   ]
  }
 ],
 "metadata": {
  "interpreter": {
   "hash": "b342b9fcd1c8fa9c671bf2bcb326ad63d7e34893804a2d72f4b441747942ea3e"
  },
  "kernelspec": {
   "display_name": "Python 3",
   "language": "python",
   "name": "python3"
  },
  "language_info": {
   "codemirror_mode": {
    "name": "ipython",
    "version": 3
   },
   "file_extension": ".py",
   "mimetype": "text/x-python",
   "name": "python",
   "nbconvert_exporter": "python",
   "pygments_lexer": "ipython3",
   "version": "3.8.3"
  }
 },
 "nbformat": 4,
 "nbformat_minor": 4
}
